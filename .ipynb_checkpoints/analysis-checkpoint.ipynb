{
 "cells": [
  {
   "cell_type": "markdown",
   "id": "212ac6c0-d656-45d5-848f-26309d63568b",
   "metadata": {},
   "source": [
    "## Loading required libraries"
   ]
  },
  {
   "cell_type": "code",
   "execution_count": 76,
   "id": "10bfd34a-c691-43fd-bbb5-2da1dc2cf58e",
   "metadata": {},
   "outputs": [],
   "source": [
    "suppressMessages({library(tidyverse)\n",
    "                  library(dplyr)\n",
    "                  library(janitor)\n",
    "                  library(lubridate)})"
   ]
  },
  {
   "cell_type": "markdown",
   "id": "6ddf082e-929e-4ead-87a4-81648030102b",
   "metadata": {},
   "source": [
    "## Preliminary Analysis"
   ]
  },
  {
   "cell_type": "markdown",
   "id": "a52aa5d5-bf86-4b86-833f-aa42d558f156",
   "metadata": {},
   "source": [
    "### Load dataset"
   ]
  },
  {
   "cell_type": "code",
   "execution_count": 51,
   "id": "8fcef0fa-ca8d-4d29-a6d0-49826d2b90b0",
   "metadata": {},
   "outputs": [],
   "source": [
    "path <- \"data/raw/imdb_data.csv\"\n",
    "imdb_data <- read.csv(path)"
   ]
  },
  {
   "cell_type": "markdown",
   "id": "5ddb8cf1-c6b7-4154-a4f3-0ec67ae297fe",
   "metadata": {},
   "source": [
    "### Summary of dataset"
   ]
  },
  {
   "cell_type": "code",
   "execution_count": 75,
   "id": "fd4d75fe-8465-43ae-a0d7-9fd22eadf8c2",
   "metadata": {},
   "outputs": [
    {
     "data": {
      "text/plain": [
       "      id            primaryTitle       originalTitle         isAdult \n",
       " Length:3348        Length:3348        Length:3348        Min.   :0  \n",
       " Class :character   Class :character   Class :character   1st Qu.:0  \n",
       " Mode  :character   Mode  :character   Mode  :character   Median :0  \n",
       "                                                          Mean   :0  \n",
       "                                                          3rd Qu.:0  \n",
       "                                                          Max.   :0  \n",
       "                                                                     \n",
       " runtimeMinutes     genres          averageRating      numVotes      \n",
       " Min.   : 63.0   Length:3348        Min.   :1.000   Min.   :  50004  \n",
       " 1st Qu.: 98.0   Class :character   1st Qu.:6.200   1st Qu.:  78977  \n",
       " Median :109.0   Mode  :character   Median :6.800   Median : 129040  \n",
       " Mean   :112.7                      Mean   :6.739   Mean   : 215549  \n",
       " 3rd Qu.:124.0                      3rd Qu.:7.300   3rd Qu.: 246850  \n",
       " Max.   :242.0                      Max.   :9.300   Max.   :2817283  \n",
       "                                                                     \n",
       "     budget              gross           release_date        directors        \n",
       " Min.   :       18   Min.   :2.100e+02   Length:3348        Length:3348       \n",
       " 1st Qu.: 15000000   1st Qu.:3.623e+07   Class :character   Class :character  \n",
       " Median : 32000000   Median :8.822e+07   Mode  :character   Mode  :character  \n",
       " Mean   : 50392804   Mean   :1.682e+08                                        \n",
       " 3rd Qu.: 68000000   3rd Qu.:2.008e+08                                        \n",
       " Max.   :356000000   Max.   :2.924e+09                                        \n",
       "                     NA's   :51                                               "
      ]
     },
     "metadata": {},
     "output_type": "display_data"
    }
   ],
   "source": [
    "summary(imdb_data)"
   ]
  },
  {
   "cell_type": "markdown",
   "id": "d55bcb15-6092-4f8c-80b8-8645ccd2151a",
   "metadata": {},
   "source": [
    "### Data wrangling"
   ]
  },
  {
   "cell_type": "markdown",
   "id": "4af3dcf0-6a45-4750-a628-b372f2d9799d",
   "metadata": {},
   "source": [
    "### Data Cleaning and Preprocessing\n",
    "\n",
    "The original dataset, `imdb_data.csv`, contained information on over 3,000 movies, including variables such as ratings, budget, runtime, release date, and more. To prepare the data for analysis, we first used the `read_csv()` function and applied `clean_names()` from the **janitor** package to standardize column names for easier handling.\n",
    "\n",
    "Since our analysis focuses on movies released after 1970 and with substantial public engagement, we filtered the data to only include films released in 1970 or later and with at least 50,000 user votes.\n",
    "\n",
    "The `release_date` column was originally stored as a character string (e.g., `\"December 11, 2001\"`), so we used the `mdy()` function from the **lubridate** package to convert it into a proper `Date` object, and then extracted the release year using `year()`.\n",
    "\n",
    "During this process, we also removed rows where the `gross` earnings were missing, as this information is critical to our exploratory analysis. Finally, we selected only the variables relevant to our research question: `average_rating`, `budget`, `runtime_minutes`, `release_year`, `gross`, and `num_votes`.\n",
    "\n",
    "We verified the cleaned dataset for any remaining missing values using `summarise_all()` with `is.na()`, and confirmed that no missing data remained. The cleaned dataset was then written to the `data/processed/` directory using `write_csv()`, making it ready for analysis.\n"
   ]
  },
  {
   "cell_type": "code",
   "execution_count": 71,
   "id": "729fac4f-64e2-4e21-9075-b209077f89a0",
   "metadata": {},
   "outputs": [],
   "source": [
    "cleaner <- function(path) {\n",
    "\n",
    "    # Suppress col_types warnings\n",
    "    options(readr.show_col_types = FALSE)\n",
    "\n",
    "    # CLEANED DATAFRAME STORED HERE\n",
    "    df <- read_csv(path) |> \n",
    "        clean_names() |> \n",
    "        mutate(\n",
    "          release_date = mdy(release_date),\n",
    "          release_year = year(release_date)\n",
    "        ) |> \n",
    "        filter(release_year >= 1970, num_votes >= 50000) |> \n",
    "        drop_na(gross) |> \n",
    "        select(average_rating, budget, runtime_minutes, release_year, gross, num_votes)\n",
    "\n",
    "    # Check for remaining missing values\n",
    "    missing_summary <- df |> summarise_all(~sum(is.na(.)))\n",
    "    print(\"Missing values in final cleaned dataset:\")\n",
    "    print(missing_summary)\n",
    "    \n",
    "    # Write the cleaned dataframe to \"processed data\" directory\n",
    "    write_csv(df, \"data/processed/processed_imdb.csv\") \n",
    "}"
   ]
  },
  {
   "cell_type": "code",
   "execution_count": 74,
   "id": "a78e55b6-1af3-4076-8e5d-dbcf95619b2b",
   "metadata": {},
   "outputs": [
    {
     "name": "stderr",
     "output_type": "stream",
     "text": [
      "Warning message:\n",
      "“\u001b[1m\u001b[22mThere was 1 warning in `mutate()`.\n",
      "\u001b[1m\u001b[22m\u001b[36mℹ\u001b[39m In argument: `release_date = mdy(release_date)`.\n",
      "Caused by warning:\n",
      "\u001b[33m!\u001b[39m  79 failed to parse.”\n"
     ]
    },
    {
     "name": "stdout",
     "output_type": "stream",
     "text": [
      "[1] \"Missing values in final cleaned dataset:\"\n",
      "\u001b[90m# A tibble: 1 × 6\u001b[39m\n",
      "  average_rating budget runtime_minutes release_year gross num_votes\n",
      "           \u001b[3m\u001b[90m<int>\u001b[39m\u001b[23m  \u001b[3m\u001b[90m<int>\u001b[39m\u001b[23m           \u001b[3m\u001b[90m<int>\u001b[39m\u001b[23m        \u001b[3m\u001b[90m<int>\u001b[39m\u001b[23m \u001b[3m\u001b[90m<int>\u001b[39m\u001b[23m     \u001b[3m\u001b[90m<int>\u001b[39m\u001b[23m\n",
      "\u001b[90m1\u001b[39m              0      0               0            0     0         0\n"
     ]
    }
   ],
   "source": [
    "# Use this for further analysis\n",
    "imdb_cleaned <- cleaner(path)"
   ]
  }
 ],
 "metadata": {
  "kernelspec": {
   "display_name": "R",
   "language": "R",
   "name": "ir"
  },
  "language_info": {
   "codemirror_mode": "r",
   "file_extension": ".r",
   "mimetype": "text/x-r-source",
   "name": "R",
   "pygments_lexer": "r",
   "version": "4.4.1"
  }
 },
 "nbformat": 4,
 "nbformat_minor": 5
}
